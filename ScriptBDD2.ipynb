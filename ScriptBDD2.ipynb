{
 "cells": [
  {
   "cell_type": "code",
   "execution_count": 1,
   "metadata": {},
   "outputs": [
    {
     "name": "stdout",
     "output_type": "stream",
     "text": [
      "La base de données et les tables ont été créées\n"
     ]
    }
   ],
   "source": [
    "import sqlite3\n",
    "import csv\n",
    "#hello\n",
    "try:\n",
    "    #Create & connect to DB.\n",
    "    db = sqlite3.connect(\"Bdd/moviesdb.db\")\n",
    "\n",
    "    #Create cursor object.\n",
    "    cursor = db.cursor()\n",
    "\n",
    "    #Create movies table.\n",
    "    cursor.execute('''\n",
    "                    create table if not exists movies(\n",
    "                                       movieId integer primary key,\n",
    "                                       title text,\n",
    "                                       genres text)\n",
    "                                            ''')\n",
    "    cursor.execute('''\n",
    "                    create table if not exists links(\n",
    "                                       movieId integer,\n",
    "                                       imdbId integer primary key,\n",
    "                                       tmdbId integer,\n",
    "                                       FOREIGN KEY(movieId) REFERENCES movies(movieId)) ''')\n",
    "    cursor.execute('''\n",
    "                    create table if not exists ratings(\n",
    "                                       movieId integer,\n",
    "                                       userId integer,\n",
    "                                       rating integer,\n",
    "                                       timestamp integer,\n",
    "                                       PRIMARY KEY (movieId, userId))''')\n",
    "    cursor.execute('''\n",
    "                    create table if not exists tags(\n",
    "                                       movieId integer,\n",
    "                                       userId integer,\n",
    "                                       tag text,\n",
    "                                       timestamp integer,\n",
    "                                       PRIMARY KEY (movieId, userId,tag))''')\n",
    "\n",
    "     #Save and commit the change.\n",
    "    db.commit()\n",
    "    #Close the cursor.\n",
    "    cursor.close()\n",
    "    #Close the connection.\n",
    "    db.close()\n",
    "\n",
    "except :\n",
    "    print(\"Une erreur est survenue lors de la creation de la base\")\n",
    "    exit(1)        \n",
    "\n",
    "else:\n",
    "    print(\"La base de données et les tables ont été créées\")"
   ]
  },
  {
   "cell_type": "code",
   "execution_count": 2,
   "metadata": {},
   "outputs": [],
   "source": [
    "import sqlite3\n",
    "import csv\n",
    "\n",
    " \n",
    "def executQuery(query,filename):\n",
    "    \n",
    "    with open(filename, newline='',encoding='utf-8') as csvfile:\n",
    "        reader = csv.reader(csvfile, delimiter=',') \n",
    "        next(reader)\n",
    "        \n",
    "        try:\n",
    "        \n",
    "            #Connect to SQLite3 DB.\n",
    "            #=readfile(filename)\n",
    "            db = sqlite3.connect('Bdd/moviesdb.db')\n",
    "            cursor = db.cursor()\n",
    "\n",
    "            #insertion dans la table movies\n",
    "            for row in reader:\n",
    "                #insert each rows  in the movies table\n",
    "                cursor.execute(query,row)     \n",
    "\n",
    "            #Save and commit the change. \n",
    "            db.commit()        \n",
    "\n",
    "            #close cursor & connetion\n",
    "            cursor.close()\n",
    "            db.close()\n",
    "\n",
    "        except:\n",
    "            print(\"une erreur est survenue, violation de la contrainte primary key\")\n",
    "            exit(1)\n",
    "\n",
    "        else:\n",
    "            print(\"insertion effectueé avec succes\")"
   ]
  },
  {
   "cell_type": "code",
   "execution_count": 3,
   "metadata": {},
   "outputs": [
    {
     "name": "stdout",
     "output_type": "stream",
     "text": [
      "une erreur est survenue, violation de la contrainte primary key\n"
     ]
    }
   ],
   "source": [
    "filename = 'movies csv/movies.csv'\n",
    "query='insert into movies (movieId, title, genres) values (?, ?, ?)'\n",
    "executQuery(query,filename)"
   ]
  },
  {
   "cell_type": "code",
   "execution_count": 4,
   "metadata": {},
   "outputs": [
    {
     "name": "stdout",
     "output_type": "stream",
     "text": [
      "insertion effectueé avec succes\n"
     ]
    }
   ],
   "source": [
    "filename = 'movies csv/links.csv'\n",
    "query='insert into links (movieId, imdbId, tmdbId) values (?, ?, ?)'\n",
    "executQuery(query,filename)"
   ]
  },
  {
   "cell_type": "code",
   "execution_count": 5,
   "metadata": {},
   "outputs": [
    {
     "name": "stdout",
     "output_type": "stream",
     "text": [
      "insertion effectueé avec succes\n"
     ]
    }
   ],
   "source": [
    "filename= 'movies csv/ratings.csv'\n",
    "query='insert into ratings(userId, movieId,rating, timestamp) values (?, ?, ?,?)'\n",
    "executQuery(query,filename)"
   ]
  },
  {
   "cell_type": "code",
   "execution_count": 6,
   "metadata": {},
   "outputs": [
    {
     "name": "stdout",
     "output_type": "stream",
     "text": [
      "insertion effectueé avec succes\n"
     ]
    }
   ],
   "source": [
    "\n",
    "filename = 'movies csv/tags.csv'\n",
    "query='insert into tags(userId, movieId,tag, timestamp) values (?, ?, ?,?)'\n",
    "executQuery(query,filename)"
   ]
  },
  {
   "cell_type": "code",
   "execution_count": null,
   "metadata": {},
   "outputs": [],
   "source": []
  }
 ],
 "metadata": {
  "kernelspec": {
   "display_name": "Python 3",
   "language": "python",
   "name": "python3"
  },
  "language_info": {
   "codemirror_mode": {
    "name": "ipython",
    "version": 3
   },
   "file_extension": ".py",
   "mimetype": "text/x-python",
   "name": "python",
   "nbconvert_exporter": "python",
   "pygments_lexer": "ipython3",
   "version": "3.8.6"
  }
 },
 "nbformat": 4,
 "nbformat_minor": 4
}
