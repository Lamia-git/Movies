{
 "cells": [
  {
   "cell_type": "markdown",
   "metadata": {},
   "source": [
    "### CREER UNE BDD SQLITE3"
   ]
  },
  {
   "cell_type": "code",
   "execution_count": 1,
   "metadata": {},
   "outputs": [],
   "source": [
    "import sqlite3"
   ]
  },
  {
   "cell_type": "code",
   "execution_count": 2,
   "metadata": {},
   "outputs": [
    {
     "name": "stdout",
     "output_type": "stream",
     "text": [
      "La base de données a été créée\n"
     ]
    }
   ],
   "source": [
    "try:\n",
    "    #Create & connect to DB.\n",
    "    db = sqlite3.connect(\"SQLite3.db\")\n",
    "    \n",
    "    #Create cursor object.\n",
    "    cursor = db.cursor()\n",
    "    \n",
    "    #Create personnages table.\n",
    "    cursor.execute('''\n",
    "                    create table Personnage(\n",
    "                                            id integer primary key,\n",
    "                                            Nom text,\n",
    "                                            Prenom text)\n",
    "                                            ''')\n",
    "    #Save and commit the change.\n",
    "    db.commit()\n",
    "    #Close the cursor.\n",
    "    cursor.close()\n",
    "    #Close the connection.\n",
    "    db.close()\n",
    "    \n",
    "except:\n",
    "    print(\"Une erreur est survenue lors de la creation de la base\")\n",
    "    exit(1)    \n",
    "    \n",
    "print(\"La base de données a été créée\")"
   ]
  },
  {
   "cell_type": "markdown",
   "metadata": {},
   "source": [
    "### INSERER DES DONNEES DANS UNE BDD SQLITE3"
   ]
  },
  {
   "cell_type": "code",
   "execution_count": 3,
   "metadata": {
    "scrolled": true
   },
   "outputs": [
    {
     "name": "stdout",
     "output_type": "stream",
     "text": [
      "Insertion effectuée\n"
     ]
    }
   ],
   "source": [
    "import sqlite3\n",
    "\n",
    "persos = [\n",
    "    (\"Skywalker\", \"Luke\"), \n",
    "    (\"Skywalker\", \"Anakin\"),\n",
    "    (\"Solo\", \"Han\")\n",
    "    ]\n",
    "\n",
    "try:\n",
    "    #Connect to SQLite3 DB.\n",
    "    db = sqlite3.connect('SQLite3.db')\n",
    "    cursor = db.cursor()\n",
    "    \n",
    "    \n",
    "    for perso in persos:\n",
    "        #insert each person in the Personnage table\n",
    "        cursor.execute(\n",
    "                    'insert into Personnage (Nom, Prenom) values (?, ?)',\n",
    "                    perso)\n",
    "     \n",
    "    #Save and commit the change. \n",
    "    db.commit()        \n",
    "    #close cursor & connetion\n",
    "    cursor.close()\n",
    "    db.close()\n",
    "    \n",
    "except:\n",
    "    print(\"Une erreur est survenue survenue lors de l'insertion dans la base\")\n",
    "    exit(1)\n",
    "    \n",
    "print(\"Insertion effectuée\")"
   ]
  },
  {
   "cell_type": "markdown",
   "metadata": {},
   "source": [
    "### LIRE DES DONNÉES DANS LA BASE DE DONNEES SQLITE3"
   ]
  },
  {
   "cell_type": "code",
   "execution_count": 4,
   "metadata": {},
   "outputs": [
    {
     "name": "stdout",
     "output_type": "stream",
     "text": [
      "1|Skywalker      |Luke           \n",
      "2|Skywalker      |Anakin         \n",
      "3|Solo           |Han            \n"
     ]
    }
   ],
   "source": [
    "import sqlite3\n",
    "\n",
    "try:\n",
    "    #Connect to SQLite3 DB.\n",
    "    db = sqlite3.connect(\"SQLite3.db\")\n",
    "    \n",
    "    #Create cursor object.\n",
    "    cursor = db.cursor()\n",
    "    \n",
    "    #get all peaple from Personnages table\n",
    "    cursor.execute('select * from Personnage')\n",
    "   \n",
    "    for row in cursor:\n",
    "        print(\"{}|{:15}|{:15}\".format(*row))\n",
    "    \n",
    "    #close cursor & connetion    \n",
    "    cursor.close()\n",
    "    db.close()\n",
    "except:\n",
    "    print(\"Une erreur est survenue lors de la lecture dans la base\")\n",
    "    exit(1)"
   ]
  },
  {
   "cell_type": "code",
   "execution_count": null,
   "metadata": {},
   "outputs": [],
   "source": []
  },
  {
   "cell_type": "code",
   "execution_count": null,
   "metadata": {},
   "outputs": [],
   "source": []
  }
 ],
 "metadata": {
  "kernelspec": {
   "display_name": "Python 3",
   "language": "python",
   "name": "python3"
  },
  "language_info": {
   "codemirror_mode": {
    "name": "ipython",
    "version": 3
   },
   "file_extension": ".py",
   "mimetype": "text/x-python",
   "name": "python",
   "nbconvert_exporter": "python",
   "pygments_lexer": "ipython3",
   "version": "3.8.6"
  }
 },
 "nbformat": 4,
 "nbformat_minor": 4
}
