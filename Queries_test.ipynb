{
 "cells": [
  {
   "cell_type": "code",
   "execution_count": 1,
   "metadata": {},
   "outputs": [
    {
     "name": "stdout",
     "output_type": "stream",
     "text": [
      " \n",
      " \n",
      "  Film avec une note de 5 : \n",
      "\n",
      "'Salem's Lot (2004)    5\n",
      "___________________________________________________________________\n",
      "'Til There Was You (1997)    5\n",
      "___________________________________________________________________\n",
      "'burbs, The (1989)    5\n",
      "___________________________________________________________________\n",
      "(500) Days of Summer (2009)    5\n",
      "___________________________________________________________________\n",
      "10 Cloverfield Lane (2016)    5\n",
      "___________________________________________________________________\n",
      "10 Things I Hate About You (1999)    5\n",
      "___________________________________________________________________\n",
      "101 Dalmatians (1996)    5\n",
      "___________________________________________________________________\n",
      "101 Dalmatians (One Hundred and One Dalmatians) (1961)    5\n",
      "___________________________________________________________________\n",
      "12 Angry Men (1957)    5\n",
      "___________________________________________________________________\n",
      "12 Angry Men (1997)    5\n",
      "___________________________________________________________________\n",
      " \n",
      " \n",
      "  Film avec les plus hautes moyennes : \n",
      " \n",
      "Zeitgeist: Moving Forward (2011)    5.0\n",
      "___________________________________________________________________\n",
      "Wow! A Talking Fish! (1983)    5.0\n",
      "___________________________________________________________________\n",
      "World of Glory (1991)    5.0\n",
      "___________________________________________________________________\n",
      "Wonder Woman (2009)    5.0\n",
      "___________________________________________________________________\n",
      "Won't You Be My Neighbor? (2018)    5.0\n",
      "___________________________________________________________________\n",
      "Woman Under the Influence, A (1974)    5.0\n",
      "___________________________________________________________________\n",
      "Woman Is a Woman, A (femme est une femme, Une) (1961)    5.0\n",
      "___________________________________________________________________\n",
      "Winter in Prostokvashino (1984)    5.0\n",
      "___________________________________________________________________\n",
      "Winnie the Pooh and the Day of Concern (1972)    5.0\n",
      "___________________________________________________________________\n",
      "Winnie the Pooh Goes Visiting (1971)    5.0\n",
      "___________________________________________________________________\n",
      " \n",
      " \n",
      " Nombre de fois que ce tag est apparue : \n",
      "\n",
      "In Netflix queue    131\n",
      "___________________________________________________________________\n",
      "atmospheric    36\n",
      "___________________________________________________________________\n",
      "thought-provoking    24\n",
      "___________________________________________________________________\n",
      "superhero    24\n",
      "___________________________________________________________________\n",
      "surreal    23\n",
      "___________________________________________________________________\n",
      "funny    23\n",
      "___________________________________________________________________\n",
      "Disney    23\n",
      "___________________________________________________________________\n",
      "religion    22\n",
      "___________________________________________________________________\n",
      "sci-fi    21\n",
      "___________________________________________________________________\n",
      "quirky    21\n",
      "___________________________________________________________________\n",
      "psychology    21\n",
      "___________________________________________________________________\n",
      "dark comedy    21\n",
      "___________________________________________________________________\n",
      "suspense    20\n",
      "___________________________________________________________________\n",
      "visually appealing    19\n",
      "___________________________________________________________________\n",
      "twist ending    19\n",
      "___________________________________________________________________\n",
      "crime    19\n",
      "___________________________________________________________________\n",
      "politics    18\n",
      "___________________________________________________________________\n",
      "time travel    16\n",
      "___________________________________________________________________\n",
      "music    16\n",
      "___________________________________________________________________\n",
      "mental illness    16\n",
      "___________________________________________________________________\n",
      " \n",
      " \n",
      " Exemple de Film avec au moins le genre Thriller : \n",
      "\n",
      "6    Heat (1995)\n",
      "___________________________________________________________________\n",
      "10    GoldenEye (1995)\n",
      "___________________________________________________________________\n",
      "20    Money Train (1995)\n",
      "___________________________________________________________________\n",
      "21    Get Shorty (1995)\n",
      "___________________________________________________________________\n",
      "22    Copycat (1995)\n",
      "___________________________________________________________________\n",
      "23    Assassins (1995)\n",
      "___________________________________________________________________\n",
      "32    Twelve Monkeys (a.k.a. 12 Monkeys) (1995)\n",
      "___________________________________________________________________\n",
      "45    To Die For (1995)\n",
      "___________________________________________________________________\n",
      "47    Seven (a.k.a. Se7en) (1995)\n",
      "___________________________________________________________________\n",
      "50    Usual Suspects, The (1995)\n",
      "___________________________________________________________________\n",
      "61    Eye for an Eye (1996)\n",
      "___________________________________________________________________\n",
      "66    Lawnmower Man 2: Beyond Cyberspace (1996)\n",
      "___________________________________________________________________\n",
      "70    From Dusk Till Dawn (1996)\n",
      "___________________________________________________________________\n",
      "76    Screamers (1995)\n",
      "___________________________________________________________________\n",
      "78    Crossing Guard, The (1995)\n",
      "___________________________________________________________________\n",
      "79    Juror, The (1996)\n",
      "___________________________________________________________________\n",
      "89    Nick of Time (1995)\n",
      "___________________________________________________________________\n",
      "92    Mary Reilly (1996)\n",
      "___________________________________________________________________\n",
      "95    Broken Arrow (1996)\n",
      "___________________________________________________________________\n",
      "100    City Hall (1996)\n",
      "___________________________________________________________________\n"
     ]
    }
   ],
   "source": [
    "import sqlite3\n",
    "from pprint import pprint\n",
    "\n",
    "db = sqlite3.connect('BDD/moviesdb.db')\n",
    "\n",
    "cursor = db.cursor()\n",
    "\n",
    "a = cursor.execute(\"SELECT title, rating FROM movies m, ratings r WHERE m.movieId=r.movieID AND r.rating= 5.0 GROUP BY title LIMIT 10 \")\n",
    "\n",
    "result1 = a.fetchall()\n",
    "\n",
    "\n",
    "b = cursor.execute(\"SELECT title, AVG(rating) AS moyenne FROM movies m, ratings r WHERE m.movieId=r.movieID GROUP BY title ORDER BY moyenne DESC LIMIT 10 \")\n",
    "\n",
    "result2 = b.fetchall()\n",
    "\n",
    "\n",
    "c = cursor.execute(\"SELECT tag, count(tag) as nombre FROM tags GROUP by tag ORDER by nombre DESC LIMIT 20\")\n",
    "\n",
    "result3 = c.fetchall()\n",
    "\n",
    "d = cursor.execute(\"SELECT * FROM movies WHERE genres LIKE '%thriller%' LIMIT 20 \")\n",
    "\n",
    "result4 = d.fetchall()\n",
    "\n",
    "db.commit()\n",
    "cursor.close()\n",
    "db.close()\n",
    "\n",
    "\n",
    "print(\" \\n \\n  Film avec une note de 5 : \\n\")\n",
    "\n",
    "\n",
    "for element in result1:\n",
    "    print(element[0],\"  \",element[1],)\n",
    "    print(\"___________________________________________________________________\")\n",
    "\n",
    "                                  \n",
    "print(\" \\n \\n  Film avec les plus hautes moyennes : \\n \")\n",
    "\n",
    "\n",
    "for element in result2:\n",
    "    print(element[0],\"  \",element[1],)\n",
    "    print(\"___________________________________________________________________\")\n",
    "\n",
    "print(\" \\n \\n Nombre de fois que ce tag est apparue : \\n\")\n",
    "\n",
    "\n",
    "for element in result3:\n",
    "    print(element[0],\"  \",element[1],)\n",
    "    print(\"___________________________________________________________________\")\n",
    "    \n",
    "\n",
    "print(\" \\n \\n Exemple de Film avec au moins le genre Thriller : \\n\")\n",
    "\n",
    "for element in result4:\n",
    "    print(element[0],\"  \",element[1],)\n",
    "    print(\"___________________________________________________________________\")"
   ]
  },
  {
   "cell_type": "code",
   "execution_count": null,
   "metadata": {},
   "outputs": [],
   "source": []
  },
  {
   "cell_type": "markdown",
   "metadata": {},
   "source": [
    "### Sous Sqlite3 "
   ]
  },
  {
   "cell_type": "markdown",
   "metadata": {},
   "source": [
    "### A-Film avec une note de 5 :"
   ]
  },
  {
   "cell_type": "markdown",
   "metadata": {},
   "source": [
    "![Sql Query1](img/A.png)"
   ]
  },
  {
   "cell_type": "code",
   "execution_count": null,
   "metadata": {},
   "outputs": [],
   "source": []
  },
  {
   "cell_type": "markdown",
   "metadata": {},
   "source": [
    "### B-Film avec les plus hautes moyennes :"
   ]
  },
  {
   "cell_type": "markdown",
   "metadata": {},
   "source": [
    "![Sql Query2](img/B.png)"
   ]
  },
  {
   "cell_type": "code",
   "execution_count": null,
   "metadata": {},
   "outputs": [],
   "source": []
  },
  {
   "cell_type": "markdown",
   "metadata": {},
   "source": [
    "### C-Nombre de fois que ce tag est apparue :"
   ]
  },
  {
   "cell_type": "markdown",
   "metadata": {},
   "source": [
    "![Sql Query3](img/C.PNG)"
   ]
  },
  {
   "cell_type": "code",
   "execution_count": null,
   "metadata": {},
   "outputs": [],
   "source": []
  },
  {
   "cell_type": "markdown",
   "metadata": {},
   "source": [
    "### D-Exemple de Film avec au moins le genre Thriller :"
   ]
  },
  {
   "cell_type": "markdown",
   "metadata": {},
   "source": [
    "![Sql Query](img/D.PNG)"
   ]
  },
  {
   "cell_type": "code",
   "execution_count": null,
   "metadata": {},
   "outputs": [],
   "source": []
  }
 ],
 "metadata": {
  "kernelspec": {
   "display_name": "Python 3",
   "language": "python",
   "name": "python3"
  },
  "language_info": {
   "codemirror_mode": {
    "name": "ipython",
    "version": 3
   },
   "file_extension": ".py",
   "mimetype": "text/x-python",
   "name": "python",
   "nbconvert_exporter": "python",
   "pygments_lexer": "ipython3",
   "version": "3.8.6"
  }
 },
 "nbformat": 4,
 "nbformat_minor": 4
}
