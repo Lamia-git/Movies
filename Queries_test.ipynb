{
 "cells": [
  {
   "cell_type": "code",
   "execution_count": 1,
   "metadata": {},
   "outputs": [],
   "source": [
    "\"\"\"\n",
    "Separation between title and years.\n",
    "\"\"\"\n",
    "def formater_titre(titre):\n",
    "    return titre.replace(')','').split(\"(\",2)"
   ]
  },
  {
   "cell_type": "code",
   "execution_count": 2,
   "metadata": {},
   "outputs": [
    {
     "name": "stdout",
     "output_type": "stream",
     "text": [
      " \n",
      " \n",
      "  Film avec les plus hautes moyennes :   : \n",
      "\n",
      "_________________________________________________________________________\n",
      "Zeitgeist: Moving Forward                                   |2011 |  5.0\n",
      "_________________________________________________________________________\n",
      "Wow! A Talking Fish!                                        |1983 |  5.0\n",
      "_________________________________________________________________________\n",
      "World of Glory                                              |1991 |  5.0\n",
      "_________________________________________________________________________\n",
      "Wonder Woman                                                |2009 |  5.0\n",
      "_________________________________________________________________________\n",
      "Won't You Be My Neighbor?                                   |2018 |  5.0\n",
      " \n",
      " \n",
      " Nombre de fois que ce tag est apparue : \n",
      "\n",
      "_________________________________________________________________________\n",
      "In Netflix queue         |                 131\n",
      "_________________________________________________________________________\n",
      "atmospheric              |                  36\n",
      "_________________________________________________________________________\n",
      "thought-provoking        |                  24\n",
      "_________________________________________________________________________\n",
      "superhero                |                  24\n",
      "_________________________________________________________________________\n",
      "surreal                  |                  23\n",
      "_________________________________________________________________________\n",
      "funny                    |                  23\n",
      "_________________________________________________________________________\n",
      "Disney                   |                  23\n",
      "_________________________________________________________________________\n",
      "religion                 |                  22\n",
      "_________________________________________________________________________\n",
      "sci-fi                   |                  21\n",
      "_________________________________________________________________________\n",
      "quirky                   |                  21\n",
      " \n",
      " \n",
      " Exemple de Film avec au moins le genre Thriller : \n",
      "\n",
      "____________________________________________\n",
      "Heat (1995)|\n",
      "____________________________________________\n",
      "GoldenEye (1995)|\n",
      "____________________________________________\n",
      "Money Train (1995)|\n",
      "____________________________________________\n",
      "Get Shorty (1995)|\n",
      "____________________________________________\n",
      "Copycat (1995)|\n",
      "____________________________________________\n",
      "Assassins (1995)|\n",
      "____________________________________________\n",
      "Twelve Monkeys (a.k.a. 12 Monkeys) (1995)|\n",
      "____________________________________________\n",
      "To Die For (1995)|\n",
      "____________________________________________\n",
      "Seven (a.k.a. Se7en) (1995)|\n",
      "____________________________________________\n",
      "Usual Suspects, The (1995)|\n",
      "____________________________________________\n",
      "Eye for an Eye (1996)|\n",
      "____________________________________________\n",
      "Lawnmower Man 2: Beyond Cyberspace (1996)|\n",
      "____________________________________________\n",
      "From Dusk Till Dawn (1996)|\n",
      "____________________________________________\n",
      "Screamers (1995)|\n",
      "____________________________________________\n",
      "Crossing Guard, The (1995)|\n",
      "____________________________________________\n",
      "Juror, The (1996)|\n",
      "____________________________________________\n",
      "Nick of Time (1995)|\n",
      "____________________________________________\n",
      "Mary Reilly (1996)|\n",
      "____________________________________________\n",
      "Broken Arrow (1996)|\n",
      "____________________________________________\n",
      "City Hall (1996)|\n"
     ]
    }
   ],
   "source": [
    "import sqlite3\n",
    "\n",
    "\"\"\"\n",
    "Create a Connection object\n",
    "using the connect() function of the sqlite3 module.\n",
    "\"\"\"\n",
    "\n",
    "db = sqlite3.connect('BDD/moviesdb.db')\n",
    "\n",
    "\"\"\"\n",
    "Create a Cursor object \n",
    "by calling the cursor() method of the Connection object.\n",
    "\"\"\"\n",
    "\n",
    "cursor = db.cursor()\n",
    "\n",
    "\"\"\"\"\n",
    "Pass to the execute() method of the Cursor \n",
    "object and execute this method (sql query).\n",
    "\"\"\"\n",
    "\n",
    "a = cursor.execute(\"SELECT title, AVG(rating) AS moyenne FROM movies m, ratings r WHERE m.movieId=r.movieID GROUP BY title ORDER BY moyenne DESC LIMIT 5 \")\n",
    "\n",
    "\"\"\"\n",
    "Fetches all the rows of a query result.\n",
    "It returns all the rows as a list of tuples\n",
    "\"\"\"\n",
    "\n",
    "result1 = a.fetchall()\n",
    "\n",
    "\n",
    "\n",
    "b = cursor.execute(\"SELECT tag, count(tag) as nombre FROM tags GROUP by tag ORDER by nombre DESC LIMIT 10\")\n",
    "\n",
    "result2 = b.fetchall()\n",
    "\n",
    "c = cursor.execute(\"SELECT title FROM movies WHERE genres LIKE '%thriller%' LIMIT 20 \")\n",
    "\n",
    "result3 = c.fetchall()\n",
    "\n",
    "#Save and commit the change.\n",
    "db.commit()\n",
    "\n",
    "#Close the cursor\n",
    "cursor.close()\n",
    "\n",
    "#Close the connection.\n",
    "db.close()\n",
    "\n",
    "\n",
    "print(\" \\n \\n  Film avec les plus hautes moyennes :   : \\n\")\n",
    "\n",
    "\n",
    "for element in result1:\n",
    "    titre=formater_titre(element[0])\n",
    "    titre.append(element[1]) \n",
    "    print(\"_________________________________________________________________________\")\n",
    "    print(\"{:60}|{:5}|{:5}\".format(*titre))\n",
    "    \n",
    "    \n",
    "print(\" \\n \\n Nombre de fois que ce tag est apparue : \\n\")\n",
    "\n",
    "for element in result2:  \n",
    "    print(\"_________________________________________________________________________\")\n",
    "    print(\"{:25}|{:20}\".format(*element))\n",
    "\n",
    "print(\" \\n \\n Exemple de Film avec au moins le genre Thriller : \\n\")\n",
    "\n",
    "for element in result3:\n",
    "    print(\"____________________________________________\")\n",
    "    print(\"{:1}|\".format(*element))"
   ]
  },
  {
   "cell_type": "code",
   "execution_count": null,
   "metadata": {},
   "outputs": [],
   "source": []
  },
  {
   "cell_type": "markdown",
   "metadata": {},
   "source": [
    "### Sous Sqlite3 "
   ]
  },
  {
   "cell_type": "markdown",
   "metadata": {},
   "source": [
    "### A-Film avec les plus hautes moyennes :"
   ]
  },
  {
   "cell_type": "markdown",
   "metadata": {},
   "source": [
    "![Sql Query2](Img_Python_BDD/B.png)"
   ]
  },
  {
   "cell_type": "code",
   "execution_count": null,
   "metadata": {},
   "outputs": [],
   "source": []
  },
  {
   "cell_type": "markdown",
   "metadata": {},
   "source": [
    "### B-Nombre de fois que ce tag est apparue :"
   ]
  },
  {
   "cell_type": "markdown",
   "metadata": {},
   "source": [
    "![Sql Query3](Img_Python_BDD/C.PNG)"
   ]
  },
  {
   "cell_type": "code",
   "execution_count": null,
   "metadata": {},
   "outputs": [],
   "source": []
  },
  {
   "cell_type": "markdown",
   "metadata": {},
   "source": [
    "### C-Exemple de Film avec au moins le genre Thriller :"
   ]
  },
  {
   "cell_type": "markdown",
   "metadata": {},
   "source": [
    "![Sql Query](Img_Python_BDD/D.PNG)"
   ]
  },
  {
   "cell_type": "code",
   "execution_count": null,
   "metadata": {},
   "outputs": [],
   "source": []
  }
 ],
 "metadata": {
  "kernelspec": {
   "display_name": "Python 3",
   "language": "python",
   "name": "python3"
  },
  "language_info": {
   "codemirror_mode": {
    "name": "ipython",
    "version": 3
   },
   "file_extension": ".py",
   "mimetype": "text/x-python",
   "name": "python",
   "nbconvert_exporter": "python",
   "pygments_lexer": "ipython3",
   "version": "3.8.6"
  }
 },
 "nbformat": 4,
 "nbformat_minor": 4
}
